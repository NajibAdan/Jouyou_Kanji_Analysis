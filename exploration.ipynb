{
 "cells": [
  {
   "cell_type": "code",
   "execution_count": 1,
   "metadata": {},
   "outputs": [],
   "source": [
    "import pandas as pd\n",
    "import seaborn as sb\n",
    "import matplotlib.pyplot as plt\n",
    "import numpy as np\n",
    "joyo_df = pd.read_csv('data/joyo_kanji.csv',index_col=0)\n",
    "radicals_df = pd.read_csv('data/kanji_radicals.csv')\n",
    "\n",
    "%matplotlib inline"
   ]
  },
  {
   "cell_type": "code",
   "execution_count": 2,
   "metadata": {},
   "outputs": [
    {
     "name": "stdout",
     "output_type": "stream",
     "text": [
      "(214, 3)\n",
      "<class 'pandas.core.frame.DataFrame'>\n",
      "RangeIndex: 214 entries, 0 to 213\n",
      "Data columns (total 3 columns):\n",
      " #   Column        Non-Null Count  Dtype \n",
      "---  ------        --------------  ----- \n",
      " 0   Unnamed: 0    214 non-null    int64 \n",
      " 1   radical       214 non-null    object\n",
      " 2   stroke_count  214 non-null    int64 \n",
      "dtypes: int64(2), object(1)\n",
      "memory usage: 5.1+ KB\n",
      "None\n"
     ]
    },
    {
     "data": {
      "text/html": [
       "<div>\n",
       "<style scoped>\n",
       "    .dataframe tbody tr th:only-of-type {\n",
       "        vertical-align: middle;\n",
       "    }\n",
       "\n",
       "    .dataframe tbody tr th {\n",
       "        vertical-align: top;\n",
       "    }\n",
       "\n",
       "    .dataframe thead th {\n",
       "        text-align: right;\n",
       "    }\n",
       "</style>\n",
       "<table border=\"1\" class=\"dataframe\">\n",
       "  <thead>\n",
       "    <tr style=\"text-align: right;\">\n",
       "      <th></th>\n",
       "      <th>Unnamed: 0</th>\n",
       "      <th>radical</th>\n",
       "      <th>stroke_count</th>\n",
       "    </tr>\n",
       "  </thead>\n",
       "  <tbody>\n",
       "    <tr>\n",
       "      <th>0</th>\n",
       "      <td>1</td>\n",
       "      <td>一</td>\n",
       "      <td>1</td>\n",
       "    </tr>\n",
       "    <tr>\n",
       "      <th>1</th>\n",
       "      <td>2</td>\n",
       "      <td>丨</td>\n",
       "      <td>1</td>\n",
       "    </tr>\n",
       "    <tr>\n",
       "      <th>2</th>\n",
       "      <td>3</td>\n",
       "      <td>丶</td>\n",
       "      <td>1</td>\n",
       "    </tr>\n",
       "    <tr>\n",
       "      <th>3</th>\n",
       "      <td>4</td>\n",
       "      <td>丿</td>\n",
       "      <td>1</td>\n",
       "    </tr>\n",
       "    <tr>\n",
       "      <th>4</th>\n",
       "      <td>5</td>\n",
       "      <td>乙</td>\n",
       "      <td>1</td>\n",
       "    </tr>\n",
       "  </tbody>\n",
       "</table>\n",
       "</div>"
      ],
      "text/plain": [
       "   Unnamed: 0 radical  stroke_count\n",
       "0           1       一             1\n",
       "1           2       丨             1\n",
       "2           3       丶             1\n",
       "3           4       丿             1\n",
       "4           5       乙             1"
      ]
     },
     "execution_count": 2,
     "metadata": {},
     "output_type": "execute_result"
    }
   ],
   "source": [
    "print(radicals_df.shape)\n",
    "print(radicals_df.info())\n",
    "radicals_df.head()"
   ]
  },
  {
   "cell_type": "code",
   "execution_count": 3,
   "metadata": {},
   "outputs": [
    {
     "name": "stdout",
     "output_type": "stream",
     "text": [
      "(2136, 7)\n",
      "<class 'pandas.core.frame.DataFrame'>\n",
      "Int64Index: 2136 entries, 1 to 2136\n",
      "Data columns (total 7 columns):\n",
      " #   Column      Non-Null Count  Dtype  \n",
      "---  ------      --------------  -----  \n",
      " 0   new         2136 non-null   object \n",
      " 1   old         365 non-null    object \n",
      " 2   radical     2136 non-null   object \n",
      " 3   strokes     2136 non-null   int64  \n",
      " 4   grade       2136 non-null   object \n",
      " 5   year_added  291 non-null    float64\n",
      " 6   Unnamed: 7  0 non-null      float64\n",
      "dtypes: float64(2), int64(1), object(4)\n",
      "memory usage: 133.5+ KB\n",
      "None\n"
     ]
    },
    {
     "data": {
      "text/html": [
       "<div>\n",
       "<style scoped>\n",
       "    .dataframe tbody tr th:only-of-type {\n",
       "        vertical-align: middle;\n",
       "    }\n",
       "\n",
       "    .dataframe tbody tr th {\n",
       "        vertical-align: top;\n",
       "    }\n",
       "\n",
       "    .dataframe thead th {\n",
       "        text-align: right;\n",
       "    }\n",
       "</style>\n",
       "<table border=\"1\" class=\"dataframe\">\n",
       "  <thead>\n",
       "    <tr style=\"text-align: right;\">\n",
       "      <th></th>\n",
       "      <th>new</th>\n",
       "      <th>old</th>\n",
       "      <th>radical</th>\n",
       "      <th>strokes</th>\n",
       "      <th>grade</th>\n",
       "      <th>year_added</th>\n",
       "      <th>Unnamed: 7</th>\n",
       "    </tr>\n",
       "  </thead>\n",
       "  <tbody>\n",
       "    <tr>\n",
       "      <th>1</th>\n",
       "      <td>亜</td>\n",
       "      <td>亞</td>\n",
       "      <td>二</td>\n",
       "      <td>7</td>\n",
       "      <td>S</td>\n",
       "      <td>NaN</td>\n",
       "      <td>NaN</td>\n",
       "    </tr>\n",
       "    <tr>\n",
       "      <th>2</th>\n",
       "      <td>哀</td>\n",
       "      <td>NaN</td>\n",
       "      <td>口</td>\n",
       "      <td>9</td>\n",
       "      <td>S</td>\n",
       "      <td>NaN</td>\n",
       "      <td>NaN</td>\n",
       "    </tr>\n",
       "    <tr>\n",
       "      <th>3</th>\n",
       "      <td>挨</td>\n",
       "      <td>NaN</td>\n",
       "      <td>手</td>\n",
       "      <td>10</td>\n",
       "      <td>S</td>\n",
       "      <td>2010.0</td>\n",
       "      <td>NaN</td>\n",
       "    </tr>\n",
       "    <tr>\n",
       "      <th>4</th>\n",
       "      <td>愛</td>\n",
       "      <td>NaN</td>\n",
       "      <td>心</td>\n",
       "      <td>13</td>\n",
       "      <td>4</td>\n",
       "      <td>NaN</td>\n",
       "      <td>NaN</td>\n",
       "    </tr>\n",
       "    <tr>\n",
       "      <th>5</th>\n",
       "      <td>曖</td>\n",
       "      <td>NaN</td>\n",
       "      <td>日</td>\n",
       "      <td>17</td>\n",
       "      <td>S</td>\n",
       "      <td>2010.0</td>\n",
       "      <td>NaN</td>\n",
       "    </tr>\n",
       "  </tbody>\n",
       "</table>\n",
       "</div>"
      ],
      "text/plain": [
       "  new  old radical  strokes grade  year_added  Unnamed: 7\n",
       "1   亜    亞       二        7     S         NaN         NaN\n",
       "2   哀  NaN       口        9     S         NaN         NaN\n",
       "3   挨  NaN       手       10     S      2010.0         NaN\n",
       "4   愛  NaN       心       13     4         NaN         NaN\n",
       "5   曖  NaN       日       17     S      2010.0         NaN"
      ]
     },
     "execution_count": 3,
     "metadata": {},
     "output_type": "execute_result"
    }
   ],
   "source": [
    "print(joyo_df.shape)\n",
    "print(joyo_df.info())\n",
    "joyo_df.head()"
   ]
  },
  {
   "attachments": {},
   "cell_type": "markdown",
   "metadata": {},
   "source": [
    "## Cleaning\n",
    "### Jouyou Kanji\n",
    "The last column of the jouyou kanji dataset has no values."
   ]
  },
  {
   "cell_type": "code",
   "execution_count": 4,
   "metadata": {},
   "outputs": [
    {
     "name": "stdout",
     "output_type": "stream",
     "text": [
      "<class 'pandas.core.frame.DataFrame'>\n",
      "Int64Index: 2136 entries, 1 to 2136\n",
      "Data columns (total 6 columns):\n",
      " #   Column      Non-Null Count  Dtype  \n",
      "---  ------      --------------  -----  \n",
      " 0   new         2136 non-null   object \n",
      " 1   old         365 non-null    object \n",
      " 2   radical     2136 non-null   object \n",
      " 3   strokes     2136 non-null   int64  \n",
      " 4   grade       2136 non-null   object \n",
      " 5   year_added  291 non-null    float64\n",
      "dtypes: float64(1), int64(1), object(4)\n",
      "memory usage: 116.8+ KB\n"
     ]
    }
   ],
   "source": [
    "joyo_df = joyo_df.drop(joyo_df.columns[-1], axis=1)\n",
    "joyo_df.info()"
   ]
  },
  {
   "attachments": {},
   "cell_type": "markdown",
   "metadata": {},
   "source": [
    "Grade should be categorical in the order S,5,4,3,2,1\n"
   ]
  },
  {
   "cell_type": "code",
   "execution_count": 6,
   "metadata": {},
   "outputs": [
    {
     "name": "stdout",
     "output_type": "stream",
     "text": [
      "<class 'pandas.core.frame.DataFrame'>\n",
      "Int64Index: 2136 entries, 1 to 2136\n",
      "Data columns (total 7 columns):\n",
      " #   Column      Non-Null Count  Dtype   \n",
      "---  ------      --------------  -----   \n",
      " 0   new         2136 non-null   object  \n",
      " 1   old         365 non-null    object  \n",
      " 2   radical     2136 non-null   object  \n",
      " 3   strokes     2136 non-null   int64   \n",
      " 4   grade       2136 non-null   category\n",
      " 5   year_added  291 non-null    float64 \n",
      " 6   Unnamed: 7  0 non-null      float64 \n",
      "dtypes: category(1), float64(2), int64(1), object(3)\n",
      "memory usage: 119.2+ KB\n"
     ]
    }
   ],
   "source": [
    "grades = ['S','6','5','4','3','2','1']\n",
    "k_grades = pd.CategoricalDtype(categories=grades,ordered=True)\n",
    "joyo_df.grade = joyo_df.grade.astype(k_grades)\n",
    "joyo_df.info()"
   ]
  },
  {
   "attachments": {},
   "cell_type": "markdown",
   "metadata": {},
   "source": [
    "`year_added` is float while it should be integer"
   ]
  },
  {
   "cell_type": "code",
   "execution_count": 7,
   "metadata": {},
   "outputs": [
    {
     "name": "stdout",
     "output_type": "stream",
     "text": [
      "<class 'pandas.core.frame.DataFrame'>\n",
      "Int64Index: 2136 entries, 1 to 2136\n",
      "Data columns (total 7 columns):\n",
      " #   Column      Non-Null Count  Dtype   \n",
      "---  ------      --------------  -----   \n",
      " 0   new         2136 non-null   object  \n",
      " 1   old         365 non-null    object  \n",
      " 2   radical     2136 non-null   object  \n",
      " 3   strokes     2136 non-null   int64   \n",
      " 4   grade       2136 non-null   category\n",
      " 5   year_added  2136 non-null   int64   \n",
      " 6   Unnamed: 7  0 non-null      float64 \n",
      "dtypes: category(1), float64(1), int64(2), object(3)\n",
      "memory usage: 119.2+ KB\n"
     ]
    }
   ],
   "source": [
    "joyo_df.year_added = joyo_df.year_added.fillna(0).astype('int64')\n",
    "joyo_df.info()"
   ]
  },
  {
   "attachments": {},
   "cell_type": "markdown",
   "metadata": {},
   "source": [
    "## Exploratory Visualizations"
   ]
  },
  {
   "cell_type": "code",
   "execution_count": 8,
   "metadata": {},
   "outputs": [
    {
     "data": {
      "text/plain": [
       "<AxesSubplot:xlabel='grade', ylabel='count'>"
      ]
     },
     "execution_count": 8,
     "metadata": {},
     "output_type": "execute_result"
    },
    {
     "data": {
      "image/png": "[encoded data removed]",
      "text/plain": [
       "<Figure size 640x480 with 1 Axes>"
      ]
     },
     "metadata": {},
     "output_type": "display_data"
    }
   ],
   "source": [
    "base_color = sb.color_palette()[0]\n",
    "\n",
    "sb.countplot(data=joyo_df,x='grade',color=base_color)"
   ]
  },
  {
   "attachments": {},
   "cell_type": "markdown",
   "metadata": {},
   "source": [
    "Looks like a good chunk of kanjis are taught in high school. In elementary school a student is taught about 100-200 kanji depending on your grade, with grades 3,4 having close to 200. "
   ]
  },
  {
   "cell_type": "code",
   "execution_count": 9,
   "metadata": {},
   "outputs": [
    {
     "data": {
      "text/plain": [
       "count    2136.000000\n",
       "mean       10.471442\n",
       "std         3.796600\n",
       "min         1.000000\n",
       "25%         8.000000\n",
       "50%        10.000000\n",
       "75%        13.000000\n",
       "max        29.000000\n",
       "Name: strokes, dtype: float64"
      ]
     },
     "execution_count": 9,
     "metadata": {},
     "output_type": "execute_result"
    }
   ],
   "source": [
    "joyo_df.strokes.describe()"
   ]
  },
  {
   "cell_type": "code",
   "execution_count": 10,
   "metadata": {},
   "outputs": [
    {
     "data": {
      "image/png": "[encoded data removed]",
      "text/plain": [
       "<Figure size 1500x500 with 1 Axes>"
      ]
     },
     "metadata": {},
     "output_type": "display_data"
    }
   ],
   "source": [
    "plt.figure(figsize = [15, 5])\n",
    "bins = np.arange(0.7,joyo_df.strokes.max()+1.7,1)\n",
    "plt.hist(data=joyo_df,x='strokes',bins=bins, width=0.7)\n",
    "plt.xticks(np.arange(1,joyo_df.strokes.max()+1,1),rotation=90)\n",
    "plt.ylabel('Count')\n",
    "plt.xlabel('Number of Strokes');"
   ]
  },
  {
   "attachments": {},
   "cell_type": "markdown",
   "metadata": {},
   "source": [
    "The number of strokes are skewed to the left with the majority of kanjis having around 8-12 strokes."
   ]
  },
  {
   "cell_type": "code",
   "execution_count": 12,
   "metadata": {},
   "outputs": [
    {
     "data": {
      "text/plain": [
       "Int64Index([0, 2010, 1981], dtype='int64')"
      ]
     },
     "execution_count": 12,
     "metadata": {},
     "output_type": "execute_result"
    }
   ],
   "source": []
  },
  {
   "cell_type": "code",
   "execution_count": 17,
   "metadata": {},
   "outputs": [
    {
     "data": {
      "image/png": "[encoded data removed]",
      "text/plain": [
       "<Figure size 640x480 with 1 Axes>"
      ]
     },
     "metadata": {},
     "output_type": "display_data"
    }
   ],
   "source": [
    "sorted_year_counts = joyo_df.query('year_added>0').year_added.value_counts()\n",
    "\n",
    "plt.pie(sorted_year_counts,labels=sorted_year_counts.index, startangle=90, counterclock=False,autopct=\"%d\")\n",
    "plt.axis('square');"
   ]
  },
  {
   "attachments": {},
   "cell_type": "markdown",
   "metadata": {},
   "source": [
    "Majority of the added kanjis were in 2010."
   ]
  },
  {
   "cell_type": "code",
   "execution_count": 18,
   "metadata": {},
   "outputs": [
    {
     "data": {
      "text/plain": [
       "水    118\n",
       "人     98\n",
       "手     95\n",
       "木     84\n",
       "心     76\n",
       "口     70\n",
       "言     69\n",
       "糸     64\n",
       "辵     51\n",
       "土     49\n",
       "艸     47\n",
       "肉     44\n",
       "貝     38\n",
       "宀     37\n",
       "日     37\n",
       "女     36\n",
       "金     33\n",
       "刀     32\n",
       "阜     31\n",
       "竹     25\n",
       "Name: radical, dtype: int64"
      ]
     },
     "execution_count": 18,
     "metadata": {},
     "output_type": "execute_result"
    }
   ],
   "source": [
    "joyo_df.radical.value_counts()[:20]"
   ]
  },
  {
   "cell_type": "code",
   "execution_count": null,
   "metadata": {},
   "outputs": [],
   "source": []
  }
 ],
 "metadata": {
  "kernelspec": {
   "display_name": "jouyou",
   "language": "python",
   "name": "python3"
  },
  "language_info": {
   "codemirror_mode": {
    "name": "ipython",
    "version": 3
   },
   "file_extension": ".py",
   "mimetype": "text/x-python",
   "name": "python",
   "nbconvert_exporter": "python",
   "pygments_lexer": "ipython3",
   "version": "3.10.9"
  },
  "orig_nbformat": 4,
  "vscode": {
   "interpreter": {
    "hash": "91223ec911ee3013b2c09a456980bc741f20023c7b8b0b9865d87d49579caaf0"
   }
  }
 },
 "nbformat": 4,
 "nbformat_minor": 2
}
